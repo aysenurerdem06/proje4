{
  "nbformat": 4,
  "nbformat_minor": 0,
  "metadata": {
    "colab": {
      "provenance": [],
      "authorship_tag": "ABX9TyPE+30ZhDNMSZcft6/l27JA",
      "include_colab_link": true
    },
    "kernelspec": {
      "name": "python3",
      "display_name": "Python 3"
    },
    "language_info": {
      "name": "python"
    }
  },
  "cells": [
    {
      "cell_type": "markdown",
      "metadata": {
        "id": "view-in-github",
        "colab_type": "text"
      },
      "source": [
        "<a href=\"https://colab.research.google.com/github/aysenurerdem06/proje4/blob/main/proje4.ipynb\" target=\"_parent\"><img src=\"https://colab.research.google.com/assets/colab-badge.svg\" alt=\"Open In Colab\"/></a>"
      ]
    },
    {
      "cell_type": "code",
      "source": [
        "!pip install nltk"
      ],
      "metadata": {
        "id": "R6U1M3olN4Ln"
      },
      "execution_count": null,
      "outputs": []
    },
    {
      "cell_type": "code",
      "execution_count": null,
      "metadata": {
        "id": "U5cKn99pNwsd"
      },
      "outputs": [],
      "source": [
        "import nltk\n",
        "from nltk.tokenize import word_tokenize\n",
        "from nltk.corpus import stopwords\n",
        "\n",
        "# NLTK için gerekli kaynakları indir\n",
        "nltk.download('punkt')\n",
        "nltk.download('stopwords')\n",
        "\n",
        "# Anahtar kelimeleri tanımlama\n",
        "konu_basliklari = {\n",
        "    \"Siyaset\": [\"seçim\", \"hükümet\", \"politika\", \"yasalar\", \"parti\", \"lider\", \"demokrasi\", \"otorite\"],\n",
        "    \"Teknoloji\": [\"yazılım\", \"donanım\", \"internet\", \"inovasyon\", \"yapay zeka\", \"cihaz\", \"teknoloji\"],\n",
        "    \"Spor\": [\"futbol\", \"basketbol\", \"olimpiyat\", \"sporcu\", \"maç\", \"takım\", \"yarışma\"],\n",
        "    \"Sağlık\": [\"hastalık\", \"tedavi\", \"sağlık\", \"beslenme\", \"egzersiz\", \"ilaç\", \"tıbbi\"],\n",
        "    \"Eğlence\": [\"film\", \"müzik\", \"oyun\", \"konser\", \"etkinlik\", \"dizi\", \"eğlenceli\"]\n",
        "}\n",
        "\n",
        "def konu_bul(metin):\n",
        "    # Metni tokenize etme\n",
        "    kelimeler = word_tokenize(metin.lower())  # Metni küçük harfe çevir ve kelimelere ayır\n",
        "    kelimeler = [kelime for kelime in kelimeler if kelime.isalnum()]  # Sadece alfanümerik kelimeleri al\n",
        "\n",
        "    en_yuksek_skor = 0\n",
        "    en_uygun_konu = \"diğer konular\"\n",
        "\n",
        "    for konu, anahtar_kelimeler in konu_basliklari.items():\n",
        "        skor = sum(kelimeler.count(kelime) for kelime in anahtar_kelimeler)\n",
        "        if skor > en_yuksek_skor:\n",
        "            en_yuksek_skor = skor\n",
        "            en_uygun_konu = konu\n",
        "\n",
        "    return en_uygun_konu\n",
        "\n",
        "# Kullanıcıdan metin alma\n",
        "metin = input(\"Bir metin girin: \")\n",
        "sonuc = konu_bul(metin)\n",
        "print(f\"Girilen metin '{sonuc}' konusuyla ilişkilidir.\")"
      ]
    }
  ]
}